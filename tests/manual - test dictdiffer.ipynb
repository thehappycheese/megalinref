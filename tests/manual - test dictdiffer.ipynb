{
 "cells": [
  {
   "cell_type": "code",
   "execution_count": 1,
   "metadata": {},
   "outputs": [],
   "source": [
    "import dictdiffer"
   ]
  },
  {
   "cell_type": "code",
   "execution_count": 11,
   "metadata": {},
   "outputs": [],
   "source": [
    "a = {\n",
    "\t\"feature\":{\n",
    "\t\t\"ROAD\": \"H016\",\n",
    "\t\t\"CWY\": 0b0000_0100, #\"Left\",\n",
    "\t\t\"NETWORK_TYPE\": 0b0000_0001,#\"State Road\",\n",
    "\t},\n",
    "\t\"slk\":10,\n",
    "\t\"true\":10,\n",
    "\t\"distance_metres\":0,\n",
    "}\n",
    "\n",
    "b = {\n",
    "\t\"feature\":{\n",
    "\t\t\"ROAD\": \"H016\",\n",
    "\t\t\"CWY\": 0b0000_0100, #\"Left\",\n",
    "\t\t\"NETWORK_TYPE\": 0b0000_0001,#\"State Road\",\n",
    "\t\t\"EXTRA_JUNK\": \"JUNK\"\n",
    "\t},\n",
    "\t\"slk\":10,\n",
    "\t\"true\":10,\n",
    "\t\"more_stuff\": \"JUNK\",\n",
    "\t\"distance_metres\":0,\n",
    "}"
   ]
  },
  {
   "cell_type": "code",
   "execution_count": 12,
   "metadata": {},
   "outputs": [
    {
     "data": {
      "text/plain": [
       "[('add', 'feature', [('EXTRA_JUNK', 'JUNK')]),\n",
       " ('add', '', [('more_stuff', 'JUNK')])]"
      ]
     },
     "execution_count": 12,
     "metadata": {},
     "output_type": "execute_result"
    }
   ],
   "source": [
    "list(dictdiffer.diff(a,b))"
   ]
  },
  {
   "cell_type": "code",
   "execution_count": null,
   "metadata": {},
   "outputs": [],
   "source": []
  }
 ],
 "metadata": {
  "interpreter": {
   "hash": "1036ff93b8156e06c1a1b1a4fce00491421761ff03a4bd7e2592aca5c1678a7a"
  },
  "kernelspec": {
   "display_name": "Python 3.9.1 ('base')",
   "language": "python",
   "name": "python3"
  },
  "language_info": {
   "codemirror_mode": {
    "name": "ipython",
    "version": 3
   },
   "file_extension": ".py",
   "mimetype": "text/x-python",
   "name": "python",
   "nbconvert_exporter": "python",
   "pygments_lexer": "ipython3",
   "version": "3.9.1"
  },
  "orig_nbformat": 4
 },
 "nbformat": 4,
 "nbformat_minor": 2
}
