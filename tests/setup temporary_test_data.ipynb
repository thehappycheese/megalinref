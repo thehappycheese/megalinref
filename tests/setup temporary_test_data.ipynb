{
 "cells": [
  {
   "cell_type": "markdown",
   "metadata": {},
   "source": [
    "# Manual Testing\n",
    "\n",
    "See `readme.md` for setup instructions.\n",
    "\n",
    "Then make sure this jupyter notebook is restarted before rebuilding, or `maturin` will fail to copy the fresh `.pyd` library into `.env/Lib/megalinref/` ."
   ]
  },
  {
   "cell_type": "code",
   "execution_count": 1,
   "metadata": {},
   "outputs": [],
   "source": [
    "import json\n",
    "import megalinref as mlr\n",
    "import pandas as pd\n",
    "import numpy as np\n",
    "import util.unit_conversion as uc\n",
    "import math"
   ]
  },
  {
   "cell_type": "code",
   "execution_count": 11,
   "metadata": {},
   "outputs": [],
   "source": [
    "if False:\n",
    "    # Fetch new Data\n",
    "    xx = mlr.download_fresh_data_as_json()\n",
    "    with open(\"./temporary_test_data/road_network.json\",\"w\") as f:\n",
    "        json.dump(xx, f)\n",
    "else:\n",
    "    # Use cached data\n",
    "    with open(\"./temporary_test_data/road_network.json\",\"r\") as f:\n",
    "        xx = json.load(f)"
   ]
  },
  {
   "cell_type": "code",
   "execution_count": 6,
   "metadata": {},
   "outputs": [],
   "source": [
    "xx[\"features\"] = xx[\"features\"][:10]"
   ]
  },
  {
   "cell_type": "code",
   "execution_count": 9,
   "metadata": {},
   "outputs": [
    {
     "name": "stdout",
     "output_type": "stream",
     "text": [
      "dummy_conf2\n"
     ]
    },
    {
     "data": {
      "text/plain": [
       "<Lookup at 0x11ba9c37840>"
      ]
     },
     "execution_count": 9,
     "metadata": {},
     "output_type": "execute_result"
    }
   ],
   "source": [
    "lookup = mlr.Lookup()\n",
    "lookup"
   ]
  },
  {
   "cell_type": "code",
   "execution_count": 12,
   "metadata": {},
   "outputs": [
    {
     "name": "stdout",
     "output_type": "stream",
     "text": [
      "extracting features key\n"
     ]
    },
    {
     "data": {
      "text/plain": [
       "<Lookup at 0x11ba9c373c0>"
      ]
     },
     "execution_count": 12,
     "metadata": {},
     "output_type": "execute_result"
    }
   ],
   "source": [
    "lookup = mlr.Lookup.from_dict(xx)\n",
    "lookup"
   ]
  },
  {
   "cell_type": "code",
   "execution_count": 14,
   "metadata": {},
   "outputs": [
    {
     "ename": "PanicException",
     "evalue": "called `Option::unwrap()` on a `None` value",
     "output_type": "error",
     "traceback": [
      "\u001b[1;31m---------------------------------------------------------------------------\u001b[0m",
      "\u001b[1;31mPanicException\u001b[0m                            Traceback (most recent call last)",
      "\u001b[1;32me:\\GitProjects\\megalinref\\tests\\setup temporary_test_data.ipynb Cell 7'\u001b[0m in \u001b[0;36m<module>\u001b[1;34m\u001b[0m\n\u001b[1;32m----> <a href='vscode-notebook-cell:/e%3A/GitProjects/megalinref/tests/setup%20temporary_test_data.ipynb#ch0000007?line=0'>1</a>\u001b[0m lookup\u001b[39m.\u001b[39;49mroad_slk_from_coordinate(\n\u001b[0;32m      <a href='vscode-notebook-cell:/e%3A/GitProjects/megalinref/tests/setup%20temporary_test_data.ipynb#ch0000007?line=1'>2</a>\u001b[0m     \u001b[39m-\u001b[39;49m\u001b[39m31.89006203575722\u001b[39;49m,\n\u001b[0;32m      <a href='vscode-notebook-cell:/e%3A/GitProjects/megalinref/tests/setup%20temporary_test_data.ipynb#ch0000007?line=2'>3</a>\u001b[0m     \u001b[39m115.80183730752809\u001b[39;49m,\n\u001b[0;32m      <a href='vscode-notebook-cell:/e%3A/GitProjects/megalinref/tests/setup%20temporary_test_data.ipynb#ch0000007?line=3'>4</a>\u001b[0m     \u001b[39m0b1111_1111\u001b[39;49m, \u001b[39m# megalinref.Cwy[\"All\"],\u001b[39;49;00m\n\u001b[0;32m      <a href='vscode-notebook-cell:/e%3A/GitProjects/megalinref/tests/setup%20temporary_test_data.ipynb#ch0000007?line=4'>5</a>\u001b[0m     \u001b[39m0b1111_1111\u001b[39;49m\n\u001b[0;32m      <a href='vscode-notebook-cell:/e%3A/GitProjects/megalinref/tests/setup%20temporary_test_data.ipynb#ch0000007?line=5'>6</a>\u001b[0m )\n",
      "\u001b[1;31mPanicException\u001b[0m: called `Option::unwrap()` on a `None` value"
     ]
    }
   ],
   "source": [
    "lookup.road_slk_from_coordinate(\n",
    "    -31.89006203575722,\n",
    "    115.80183730752809,\n",
    "    0b1111_1111, # megalinref.Cwy[\"All\"],\n",
    "    0b1111_1111\n",
    ")"
   ]
  },
  {
   "cell_type": "code",
   "execution_count": 4,
   "metadata": {},
   "outputs": [
    {
     "ename": "PanicException",
     "evalue": "called `Option::unwrap()` on a `None` value",
     "output_type": "error",
     "traceback": [
      "\u001b[1;31m---------------------------------------------------------------------------\u001b[0m",
      "\u001b[1;31mPanicException\u001b[0m                            Traceback (most recent call last)",
      "\u001b[1;32me:\\GitProjects\\megalinref\\tests\\setup temporary_test_data.ipynb Cell 6'\u001b[0m in \u001b[0;36m<module>\u001b[1;34m\u001b[0m\n\u001b[1;32m----> <a href='vscode-notebook-cell:/e%3A/GitProjects/megalinref/tests/setup%20temporary_test_data.ipynb#ch0000007?line=0'>1</a>\u001b[0m result \u001b[39m=\u001b[39m slk_lookup\u001b[39m.\u001b[39;49mroad_slk_from_coordinate(\n\u001b[0;32m      <a href='vscode-notebook-cell:/e%3A/GitProjects/megalinref/tests/setup%20temporary_test_data.ipynb#ch0000007?line=1'>2</a>\u001b[0m     \u001b[39m-\u001b[39;49m\u001b[39m32.0832347\u001b[39;49m,\n\u001b[0;32m      <a href='vscode-notebook-cell:/e%3A/GitProjects/megalinref/tests/setup%20temporary_test_data.ipynb#ch0000007?line=2'>3</a>\u001b[0m     \u001b[39m115.8741531\u001b[39;49m,\n\u001b[0;32m      <a href='vscode-notebook-cell:/e%3A/GitProjects/megalinref/tests/setup%20temporary_test_data.ipynb#ch0000007?line=3'>4</a>\u001b[0m     mlr\u001b[39m.\u001b[39;49mCwy[\u001b[39m\"\u001b[39;49m\u001b[39mAll\u001b[39;49m\u001b[39m\"\u001b[39;49m],\n\u001b[0;32m      <a href='vscode-notebook-cell:/e%3A/GitProjects/megalinref/tests/setup%20temporary_test_data.ipynb#ch0000007?line=4'>5</a>\u001b[0m     mlr\u001b[39m.\u001b[39;49mNetworkType[\u001b[39m\"\u001b[39;49m\u001b[39mAll\u001b[39;49m\u001b[39m\"\u001b[39;49m]\n\u001b[0;32m      <a href='vscode-notebook-cell:/e%3A/GitProjects/megalinref/tests/setup%20temporary_test_data.ipynb#ch0000007?line=5'>6</a>\u001b[0m )\n\u001b[0;32m      <a href='vscode-notebook-cell:/e%3A/GitProjects/megalinref/tests/setup%20temporary_test_data.ipynb#ch0000007?line=6'>7</a>\u001b[0m result\n",
      "\u001b[1;31mPanicException\u001b[0m: called `Option::unwrap()` on a `None` value"
     ]
    }
   ],
   "source": [
    "result = slk_lookup.road_slk_from_coordinate(\n",
    "    -32.0832347,\n",
    "    115.8741531,\n",
    "    mlr.Cwy[\"All\"],\n",
    "    mlr.NetworkType[\"All\"]\n",
    ")\n",
    "result"
   ]
  },
  {
   "cell_type": "code",
   "execution_count": 7,
   "metadata": {},
   "outputs": [],
   "source": [
    "# should be Mitchell Fwy, left lane at slk 10\n",
    "lat_lon = (-31.89006203575722, 115.80183730752809)\n",
    "expected_result = {\n",
    "    \"feature\":{\n",
    "        \"ROAD\": \"H016\",\n",
    "        \"CWY\": \"Left\",\n",
    "    },\n",
    "    \"slk\":10\n",
    "}\n",
    "\n",
    "result = slk_lookup.lookup(*lat_lon, any_carriageway, any_network_type)\n",
    "\n",
    "assert all(result[\"feature\"][item] == expected_result[\"feature\"][item] for item in [\"ROAD\",\"CWY\"])\n",
    "assert math.isclose(result[\"slk\"], expected_result[\"slk\"], abs_tol=0.01)"
   ]
  },
  {
   "cell_type": "code",
   "execution_count": 14,
   "metadata": {},
   "outputs": [],
   "source": [
    "# should be Mitchell Fwy, left lane at slk 10\n",
    "lat_lon = (-31.89006203575722, 115.80183730752809)\n",
    "expected_result = {\n",
    "    \"feature\":{\n",
    "        \"ROAD\": \"H016\",\n",
    "        \"CWY\": \"Left\",\n",
    "    },\n",
    "    \"slk\":10\n",
    "}\n",
    "\n",
    "bincode = slk_lookup.to_binary()\n",
    "with open(\"./temporary_test_data/binary_cache.bin\", \"wb\") as f:\n",
    "    f.write(bincode)\n",
    "\n",
    "with open(\"./temporary_test_data/binary_cache.bin\", \"rb\") as f:\n",
    "    bincode = f.read()\n",
    "\n",
    "slk_lookup_reloaded = mlr.SLKLookup.from_binary(bincode)\n",
    "result = slk_lookup_reloaded.lookup(*lat_lon, any_carriageway, any_network_type)\n",
    "assert all(result[\"feature\"][item] == expected_result[\"feature\"][item] for item in [\"ROAD\",\"CWY\"])\n",
    "assert math.isclose(result[\"slk\"], expected_result[\"slk\"], abs_tol=0.01)"
   ]
  },
  {
   "cell_type": "code",
   "execution_count": 2,
   "metadata": {},
   "outputs": [],
   "source": [
    "with open(\"./temporary_test_data/binary_cache.bin\", \"rb\") as f:\n",
    "    bincode = f.read()\n",
    "\n",
    "slk_lookup_reloaded = mlr.SLKLookup.from_binary(bincode)"
   ]
  },
  {
   "cell_type": "markdown",
   "metadata": {},
   "source": []
  },
  {
   "cell_type": "code",
   "execution_count": 8,
   "metadata": {},
   "outputs": [
    {
     "data": {
      "text/plain": [
       "{'feature': {'ROAD': 'H016',\n",
       "  'CWY': 'Left',\n",
       "  'START_SLK': 9.84,\n",
       "  'END_SLK': 10.68,\n",
       "  'START_TRUE_DIST': 9.84,\n",
       "  'END_TRUE_DIST': 10.68,\n",
       "  'NETWORK_TYPE': 'State Road'},\n",
       " 'slk': 9.99999981522603,\n",
       " 'true': 9.99999981522603,\n",
       " 'distance_metres': 1.1852499613658425e-09}"
      ]
     },
     "execution_count": 8,
     "metadata": {},
     "output_type": "execute_result"
    }
   ],
   "source": [
    "slk_lookup.lookup(\n",
    "  lat=-31.89006203575722,\n",
    "  lon=115.80183730752809,\n",
    "  cwy=mlr.Cwy[\"L\"] | mlr.Cwy[\"R\"],\n",
    "  network_type=mlr.NetworkType[\"State Road\"] | mlr.NetworkType[\"Local Road\"] \n",
    ")"
   ]
  },
  {
   "cell_type": "code",
   "execution_count": 9,
   "metadata": {},
   "outputs": [],
   "source": [
    "\n",
    "\n"
   ]
  },
  {
   "cell_type": "code",
   "execution_count": 10,
   "metadata": {},
   "outputs": [
    {
     "data": {
      "text/plain": [
       "bytes"
      ]
     },
     "execution_count": 10,
     "metadata": {},
     "output_type": "execute_result"
    }
   ],
   "source": [
    "type(bb)"
   ]
  },
  {
   "cell_type": "code",
   "execution_count": 11,
   "metadata": {},
   "outputs": [
    {
     "data": {
      "text/plain": [
       "'32.70 MB'"
      ]
     },
     "execution_count": 11,
     "metadata": {},
     "output_type": "execute_result"
    }
   ],
   "source": [
    "f\"{len(bb)/1024/1024:.2f} MB\""
   ]
  },
  {
   "cell_type": "code",
   "execution_count": 12,
   "metadata": {},
   "outputs": [
    {
     "data": {
      "text/plain": [
       "'98.85 MB'"
      ]
     },
     "execution_count": 12,
     "metadata": {},
     "output_type": "execute_result"
    }
   ],
   "source": [
    "import json\n",
    "f\"{len(json.dumps(xx))/1024/1024:.2f} MB\""
   ]
  },
  {
   "cell_type": "code",
   "execution_count": null,
   "metadata": {},
   "outputs": [],
   "source": []
  }
 ],
 "metadata": {
  "interpreter": {
   "hash": "74295d68824c42fff3f6a10c7082f3b1ed54488806e543879c7226bbd1868de9"
  },
  "kernelspec": {
   "display_name": "Python 3.9.5 64-bit ('.env': venv)",
   "language": "python",
   "name": "python3"
  },
  "language_info": {
   "codemirror_mode": {
    "name": "ipython",
    "version": 3
   },
   "file_extension": ".py",
   "mimetype": "text/x-python",
   "name": "python",
   "nbconvert_exporter": "python",
   "pygments_lexer": "ipython3",
   "version": "3.9.5"
  },
  "orig_nbformat": 4
 },
 "nbformat": 4,
 "nbformat_minor": 2
}
