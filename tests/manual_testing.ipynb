{
 "cells": [
  {
   "cell_type": "markdown",
   "metadata": {},
   "source": [
    "# Manual Testing\n",
    "\n",
    "See `readme.md` for setup instructions.\n",
    "\n",
    "Then make sure this jupyter notebook is restarted before rebuilding, or `maturin` will fail to copy the fresh `.pyd` library into `.env/Lib/megalinref/` ."
   ]
  },
  {
   "cell_type": "code",
   "execution_count": 1,
   "metadata": {},
   "outputs": [],
   "source": [
    "import json\n",
    "import megalinref as mlr\n",
    "import pandas as pd\n",
    "import numpy as np\n",
    "import util.unit_conversion as uc\n",
    "import math\n",
    "\n",
    "import functools\n",
    "import operator"
   ]
  },
  {
   "cell_type": "code",
   "execution_count": 2,
   "metadata": {},
   "outputs": [],
   "source": [
    "if False:\n",
    "    # Fetch new Data\n",
    "    xx = mlr.download_fresh_data_as_json()\n",
    "    with open(\"./temporary_test_data/road_network.json\",\"w\") as f:\n",
    "        json.dump(xx, f)\n",
    "else:\n",
    "    # Use cached data\n",
    "    with open(\"./temporary_test_data/road_network.json\",\"r\") as f:\n",
    "        xx = json.load(f)"
   ]
  },
  {
   "cell_type": "code",
   "execution_count": 3,
   "metadata": {},
   "outputs": [],
   "source": [
    "# typical 1.5s\n",
    "slk_lookup = mlr.SLKLookup(xx)"
   ]
  },
  {
   "cell_type": "code",
   "execution_count": 5,
   "metadata": {},
   "outputs": [],
   "source": [
    "del xx"
   ]
  },
  {
   "cell_type": "code",
   "execution_count": 6,
   "metadata": {},
   "outputs": [
    {
     "data": {
      "text/plain": [
       "7"
      ]
     },
     "execution_count": 6,
     "metadata": {},
     "output_type": "execute_result"
    }
   ],
   "source": [
    "any_carriageway = functools.reduce(operator.or_, mlr.Cwy.values())\n",
    "any_carriageway"
   ]
  },
  {
   "cell_type": "code",
   "execution_count": 8,
   "metadata": {},
   "outputs": [
    {
     "data": {
      "text/plain": [
       "63"
      ]
     },
     "execution_count": 8,
     "metadata": {},
     "output_type": "execute_result"
    }
   ],
   "source": [
    "any_network_type = functools.reduce(operator.or_, mlr.NetworkType.values())\n",
    "any_network_type"
   ]
  },
  {
   "cell_type": "code",
   "execution_count": 12,
   "metadata": {},
   "outputs": [
    {
     "data": {
      "text/plain": [
       "{'feature': {'ROAD': 'H018',\n",
       "  'CWY': 1,\n",
       "  'START_SLK': 11.84,\n",
       "  'END_SLK': 12.46,\n",
       "  'START_TRUE_DIST': 2.19,\n",
       "  'END_TRUE_DIST': 2.81,\n",
       "  'NETWORK_TYPE': 1},\n",
       " 'slk': 12.377082008066086,\n",
       " 'true': 2.727082008066085,\n",
       " 'distance': 0.0003148906790241698}"
      ]
     },
     "execution_count": 12,
     "metadata": {},
     "output_type": "execute_result"
    }
   ],
   "source": [
    "result = slk_lookup.lookup(-32.0832347, 115.8741531, any_carriageway, any_network_type)\n",
    "result"
   ]
  },
  {
   "cell_type": "code",
   "execution_count": 16,
   "metadata": {},
   "outputs": [],
   "source": [
    "lat_lon = (-31.89006203575722, 115.80183730752809)\n",
    "expected_result = {\n",
    "    \"feature\":{\n",
    "        \"ROAD\": \"H016\",\n",
    "        \"CWY\": mlr.Cwy[\"L\"],\n",
    "    },\n",
    "    \"slk\":10\n",
    "}\n",
    "\n",
    "result = slk_lookup.lookup(*lat_lon, any_carriageway, any_network_type)\n",
    "\n",
    "assert all(result[\"feature\"][item] == expected_result[\"feature\"][item] for item in [\"ROAD\",\"CWY\"])\n",
    "assert math.isclose(result[\"slk\"], expected_result[\"slk\"], abs_tol=0.01)\n"
   ]
  },
  {
   "cell_type": "markdown",
   "metadata": {},
   "source": []
  },
  {
   "cell_type": "code",
   "execution_count": 5,
   "metadata": {},
   "outputs": [
    {
     "data": {
      "text/plain": [
       "'002Z012'"
      ]
     },
     "execution_count": 5,
     "metadata": {},
     "output_type": "execute_result"
    }
   ],
   "source": [
    "xx[\"features\"][30][\"properties\"][\"ROAD\"]"
   ]
  },
  {
   "cell_type": "code",
   "execution_count": 7,
   "metadata": {},
   "outputs": [],
   "source": [
    "bb= slk_lookup.to_binary()"
   ]
  },
  {
   "cell_type": "code",
   "execution_count": 8,
   "metadata": {},
   "outputs": [
    {
     "data": {
      "text/plain": [
       "bytes"
      ]
     },
     "execution_count": 8,
     "metadata": {},
     "output_type": "execute_result"
    }
   ],
   "source": [
    "type(bb)"
   ]
  },
  {
   "cell_type": "code",
   "execution_count": 11,
   "metadata": {},
   "outputs": [
    {
     "data": {
      "text/plain": [
       "'1.33 MB'"
      ]
     },
     "execution_count": 11,
     "metadata": {},
     "output_type": "execute_result"
    }
   ],
   "source": [
    "f\"{len(bb)/1024/1024:.2f} MB\""
   ]
  },
  {
   "cell_type": "code",
   "execution_count": 15,
   "metadata": {},
   "outputs": [
    {
     "data": {
      "text/plain": [
       "'3.73 MB'"
      ]
     },
     "execution_count": 15,
     "metadata": {},
     "output_type": "execute_result"
    }
   ],
   "source": [
    "import json\n",
    "f\"{len(json.dumps(xx))/1024/1024:.2f} MB\""
   ]
  },
  {
   "cell_type": "code",
   "execution_count": null,
   "metadata": {},
   "outputs": [],
   "source": []
  }
 ],
 "metadata": {
  "interpreter": {
   "hash": "74295d68824c42fff3f6a10c7082f3b1ed54488806e543879c7226bbd1868de9"
  },
  "kernelspec": {
   "display_name": "Python 3.9.5 64-bit ('.env': venv)",
   "language": "python",
   "name": "python3"
  },
  "language_info": {
   "codemirror_mode": {
    "name": "ipython",
    "version": 3
   },
   "file_extension": ".py",
   "mimetype": "text/x-python",
   "name": "python",
   "nbconvert_exporter": "python",
   "pygments_lexer": "ipython3",
   "version": "3.9.5"
  },
  "orig_nbformat": 4
 },
 "nbformat": 4,
 "nbformat_minor": 2
}
