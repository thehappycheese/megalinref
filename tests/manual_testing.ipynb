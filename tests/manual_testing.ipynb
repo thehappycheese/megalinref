{
 "cells": [
  {
   "cell_type": "markdown",
   "metadata": {},
   "source": [
    "# Manual Testing\n",
    "\n",
    "See `readme.md` for setup instructions.\n",
    "\n",
    "Then make sure this jupyter notebook is restarted before rebuilding, or `maturin` will fail to copy the fresh `.pyd` library into `.env/Lib/megalinref/` ."
   ]
  },
  {
   "cell_type": "code",
   "execution_count": 1,
   "metadata": {},
   "outputs": [],
   "source": [
    "import json\n",
    "import megalinref as mlr\n",
    "import pandas as pd\n",
    "import numpy as np\n",
    "import util.unit_conversion as uc\n",
    "import math\n",
    "\n",
    "import functools\n",
    "import operator"
   ]
  },
  {
   "cell_type": "code",
   "execution_count": 2,
   "metadata": {},
   "outputs": [],
   "source": [
    "\n",
    "if False:\n",
    "    # Fetch new Data\n",
    "    xx = mlr.data_handling._download_fresh_data_as_json()\n",
    "    with open(\"./temporary_test_data/road_network.json\",\"w\") as f:\n",
    "        json.dump(xx, f)\n",
    "else:\n",
    "    # Use cached data\n",
    "    with open(\"./temporary_test_data/road_network.json\",\"r\") as f:\n",
    "        xx = json.load(f)"
   ]
  },
  {
   "cell_type": "code",
   "execution_count": 3,
   "metadata": {},
   "outputs": [],
   "source": [
    "# typical 1.5s\n",
    "slk_lookup = mlr.mlr.SLKLookup(xx)"
   ]
  },
  {
   "cell_type": "code",
   "execution_count": 5,
   "metadata": {},
   "outputs": [],
   "source": [
    "del xx"
   ]
  },
  {
   "cell_type": "code",
   "execution_count": 13,
   "metadata": {},
   "outputs": [
    {
     "data": {
      "text/plain": [
       "7"
      ]
     },
     "execution_count": 13,
     "metadata": {},
     "output_type": "execute_result"
    }
   ],
   "source": [
    "any_carriageway = functools.reduce(operator.or_, mlr.mlr.CWY.values())\n",
    "any_carriageway"
   ]
  },
  {
   "cell_type": "code",
   "execution_count": 14,
   "metadata": {},
   "outputs": [
    {
     "data": {
      "text/plain": [
       "63"
      ]
     },
     "execution_count": 14,
     "metadata": {},
     "output_type": "execute_result"
    }
   ],
   "source": [
    "any_network_type = functools.reduce(operator.or_, mlr.mlr.NETWORK_TYPE.values())\n",
    "any_network_type"
   ]
  },
  {
   "cell_type": "code",
   "execution_count": 15,
   "metadata": {},
   "outputs": [
    {
     "data": {
      "text/plain": [
       "{'feature': {'ROAD': 'H018',\n",
       "  'CWY': 1,\n",
       "  'START_SLK': 11.84,\n",
       "  'END_SLK': 12.46,\n",
       "  'START_TRUE_DIST': 2.19,\n",
       "  'END_TRUE_DIST': 2.81,\n",
       "  'NETWORK_TYPE': 1},\n",
       " 'slk': 12.377082008066086,\n",
       " 'true': 2.727082008066085,\n",
       " 'distance': 0.0003148906790241698}"
      ]
     },
     "execution_count": 15,
     "metadata": {},
     "output_type": "execute_result"
    }
   ],
   "source": [
    "result = slk_lookup.lookup(-32.0832347, 115.8741531, any_carriageway, any_network_type)\n",
    "result"
   ]
  },
  {
   "cell_type": "code",
   "execution_count": 12,
   "metadata": {},
   "outputs": [
    {
     "data": {
      "text/plain": [
       "{'type': 'Feature',\n",
       " 'geometry': {'type': 'LineString',\n",
       "  'coordinates': [[115.86880642274531, -32.084900985116235],\n",
       "   [115.86973316033249, -32.08461421619853],\n",
       "   [115.87071077332445, -32.08429825797492],\n",
       "   [115.87151928964755, -32.08400718843848],\n",
       "   [115.87214031729417, -32.08376809233704],\n",
       "   [115.87344724787846, -32.08321569158528],\n",
       "   [115.87468106794421, -32.08264187924232],\n",
       "   [115.87479709314772, -32.08257956602182]]},\n",
       " 'properties': {'ROAD': 'H018',\n",
       "  'START_SLK': 11.84,\n",
       "  'END_SLK': 12.46,\n",
       "  'CWY': 'Right',\n",
       "  'NETWORK_TYPE': 'State Road',\n",
       "  'START_TRUE_DIST': 2.19,\n",
       "  'END_TRUE_DIST': 2.81}}"
      ]
     },
     "execution_count": 12,
     "metadata": {},
     "output_type": "execute_result"
    }
   ],
   "source": [
    "xx[\"features\"][result[0][0]]\n"
   ]
  },
  {
   "cell_type": "markdown",
   "metadata": {},
   "source": []
  },
  {
   "cell_type": "code",
   "execution_count": 5,
   "metadata": {},
   "outputs": [
    {
     "data": {
      "text/plain": [
       "'002Z012'"
      ]
     },
     "execution_count": 5,
     "metadata": {},
     "output_type": "execute_result"
    }
   ],
   "source": [
    "xx[\"features\"][30][\"properties\"][\"ROAD\"]"
   ]
  },
  {
   "cell_type": "code",
   "execution_count": 7,
   "metadata": {},
   "outputs": [],
   "source": [
    "bb= slk_lookup.to_binary()"
   ]
  },
  {
   "cell_type": "code",
   "execution_count": 8,
   "metadata": {},
   "outputs": [
    {
     "data": {
      "text/plain": [
       "bytes"
      ]
     },
     "execution_count": 8,
     "metadata": {},
     "output_type": "execute_result"
    }
   ],
   "source": [
    "type(bb)"
   ]
  },
  {
   "cell_type": "code",
   "execution_count": 11,
   "metadata": {},
   "outputs": [
    {
     "data": {
      "text/plain": [
       "'1.33 MB'"
      ]
     },
     "execution_count": 11,
     "metadata": {},
     "output_type": "execute_result"
    }
   ],
   "source": [
    "f\"{len(bb)/1024/1024:.2f} MB\""
   ]
  },
  {
   "cell_type": "code",
   "execution_count": 15,
   "metadata": {},
   "outputs": [
    {
     "data": {
      "text/plain": [
       "'3.73 MB'"
      ]
     },
     "execution_count": 15,
     "metadata": {},
     "output_type": "execute_result"
    }
   ],
   "source": [
    "import json\n",
    "f\"{len(json.dumps(xx))/1024/1024:.2f} MB\""
   ]
  },
  {
   "cell_type": "code",
   "execution_count": null,
   "metadata": {},
   "outputs": [],
   "source": []
  }
 ],
 "metadata": {
  "interpreter": {
   "hash": "74295d68824c42fff3f6a10c7082f3b1ed54488806e543879c7226bbd1868de9"
  },
  "kernelspec": {
   "display_name": "Python 3.9.5 64-bit ('.env': venv)",
   "language": "python",
   "name": "python3"
  },
  "language_info": {
   "codemirror_mode": {
    "name": "ipython",
    "version": 3
   },
   "file_extension": ".py",
   "mimetype": "text/x-python",
   "name": "python",
   "nbconvert_exporter": "python",
   "pygments_lexer": "ipython3",
   "version": "3.9.5"
  },
  "orig_nbformat": 4
 },
 "nbformat": 4,
 "nbformat_minor": 2
}
