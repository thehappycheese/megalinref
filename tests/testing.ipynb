{
 "cells": [
  {
   "cell_type": "markdown",
   "metadata": {},
   "source": [
    "# Road Segment Length Distribution Check\n",
    "\n",
    "In considering the algorithm to use for finding the nearest line segment to a point, I wondered what the longest road segments on the network were."
   ]
  },
  {
   "cell_type": "code",
   "execution_count": 2,
   "metadata": {},
   "outputs": [],
   "source": [
    "import pandas as pd\n",
    "import numpy as np\n",
    "import requests\n",
    "from arcgis2geojson import arcgis2geojson\n",
    "import json\n",
    "import os\n",
    "import math\n",
    "\n",
    "DATA_SOURCE_URL = \"https://mrgis.mainroads.wa.gov.au/arcgis/rest/services/OpenData/RoadAssets_DataPortal/MapServer/17/query?where=1%3D1&outFields=ROAD,START_SLK,END_SLK,CWY,NETWORK_TYPE,START_TRUE_DIST,END_TRUE_DIST&outSR=4326&f=json\"\n",
    "\n",
    "def download_fresh_data_as_json(url=DATA_SOURCE_URL, chunk_limit=None):\n",
    "\n",
    "    response = requests.request(\"GET\", f\"{url}&returnCountOnly=true\")\n",
    "    record_count = response.json()[\"count\"]\n",
    "\n",
    "    print(f\"Downloading from {record_count} records\" + (\":\" if chunk_limit is None else f\", {chunk_limit=}:\"))\n",
    "    print(\".\" * math.floor(record_count/1000))\n",
    "\n",
    "    output=[]\n",
    "    offset = 0\n",
    "    chunk_counter = 0\n",
    "    while True:\n",
    "        if chunk_limit is not None and chunk_counter >= chunk_limit:\n",
    "            break\n",
    "        chunk_counter += 1\n",
    "\n",
    "        response = requests.request(\"GET\", f\"{url}&resultOffset={offset}\")\n",
    "        json = response.json()\n",
    "        if json[\"geometryType\"] != \"esriGeometryPolyline\":\n",
    "            raise Exception(\"Rest service returned an object that did not have geometryType:esriGeometryPolyline\")\n",
    "        offset += len(json[\"features\"])\n",
    "        output.extend(json[\"features\"])\n",
    "        if \"exceededTransferLimit\" not in json or not json[\"exceededTransferLimit\"]:\n",
    "            break\n",
    "        print(\".\", end=\"\")\n",
    "    print(f\"\\nDownload Completed. received {len(output)} records\")\n",
    "    json[\"features\"] = output\n",
    "    json = arcgis2geojson(json)\n",
    "    return json"
   ]
  },
  {
   "cell_type": "code",
   "execution_count": 3,
   "metadata": {},
   "outputs": [
    {
     "name": "stdout",
     "output_type": "stream",
     "text": [
      "Downloading from 181687 records:\n",
      "......................................................................................................................................................................................\n",
      ".....................................................................................................................................................................................\n",
      "Download Completed. received 181687 records\n"
     ]
    }
   ],
   "source": [
    "# xx_fresh = download_fresh_data_as_json()\n",
    "# with open(\"raw_data.json\",\"w\") as f:\n",
    "#     json.dump(xx_fresh, f)"
   ]
  },
  {
   "cell_type": "code",
   "execution_count": 5,
   "metadata": {},
   "outputs": [],
   "source": [
    "with open(\"raw_data.json\",\"r\") as f:\n",
    "\txx_jsoned = json.load(f)\n",
    "#assert xx_jsoned == xx_fresh"
   ]
  },
  {
   "cell_type": "code",
   "execution_count": 11,
   "metadata": {},
   "outputs": [],
   "source": [
    "EARTH_RADIUS_METRES\t\t= 6.3781e+6\n",
    "EARTH_METRES_PER_RADIAN\t= EARTH_RADIUS_METRES\n",
    "EARTH_METRES_PER_DEGREE\t= EARTH_METRES_PER_RADIAN * math.pi / 180.0\n",
    "\n",
    "def convert_metres_to_degrees(metres):\n",
    "\treturn metres / EARTH_METRES_PER_DEGREE\n",
    "\n",
    "def convert_degrees_to_metres(degrees):\n",
    "\treturn degrees * EARTH_METRES_PER_DEGREE"
   ]
  },
  {
   "cell_type": "code",
   "execution_count": 29,
   "metadata": {},
   "outputs": [
    {
     "data": {
      "text/plain": [
       "<AxesSubplot:>"
      ]
     },
     "execution_count": 29,
     "metadata": {},
     "output_type": "execute_result"
    },
    {
     "data": {
      "image/png": "[encoded data removed]",
      "text/plain": [
       "<Figure size 432x288 with 1 Axes>"
      ]
     },
     "metadata": {
      "needs_background": "light"
     },
     "output_type": "display_data"
    }
   ],
   "source": [
    "line_string_lengths = []\n",
    "for feature in xx_jsoned[\"features\"]:\n",
    "\tcoords = np.array(feature[\"geometry\"][\"coordinates\"])\n",
    "\tline_string_lengths.extend(np.linalg.norm(np.diff(coords, axis=0), axis=1)*EARTH_METRES_PER_DEGREE)\n",
    "\n",
    "lengths = pd.Series(line_string_lengths, name=\"length\")\n",
    "lengths.round(-2).value_counts().sort_index().plot(style=\".\", logy=True, logx=False)"
   ]
  },
  {
   "cell_type": "code",
   "execution_count": 24,
   "metadata": {},
   "outputs": [
    {
     "data": {
      "text/plain": [
       "0          0.0\n",
       "1          0.0\n",
       "2        100.0\n",
       "3          0.0\n",
       "4          0.0\n",
       "         ...  \n",
       "72308    100.0\n",
       "72309    400.0\n",
       "72310    100.0\n",
       "72311      0.0\n",
       "72312      0.0\n",
       "Name: length, Length: 72313, dtype: float64"
      ]
     },
     "execution_count": 24,
     "metadata": {},
     "output_type": "execute_result"
    }
   ],
   "source": [
    "(lengths*EARTH_METRES_PER_DEGREE).round(-2)"
   ]
  },
  {
   "cell_type": "code",
   "execution_count": 44,
   "metadata": {},
   "outputs": [],
   "source": [
    "max_segment_lengths = []\n",
    "for feature in xx_jsoned[\"features\"]:\n",
    "\tcoords = np.array(feature[\"geometry\"][\"coordinates\"])\n",
    "\tmax_segment_lengths.append(np.max(np.linalg.norm(np.diff(coords, axis=0), axis=1)*EARTH_METRES_PER_DEGREE))\n",
    "\n",
    "max_segment_lengths = pd.Series(max_segment_lengths, name=\"max_segment_length_metres\")\n",
    "\n",
    "max_segment_lengths[max_segment_lengths>5000]\n",
    "\n",
    "dat = pd.json_normalize(xx_jsoned[\"features\"])\n",
    "dat = dat.join(max_segment_lengths)\n"
   ]
  },
  {
   "cell_type": "code",
   "execution_count": 43,
   "metadata": {},
   "outputs": [
    {
     "data": {
      "text/html": [
       "<div>\n",
       "<style scoped>\n",
       "    .dataframe tbody tr th:only-of-type {\n",
       "        vertical-align: middle;\n",
       "    }\n",
       "\n",
       "    .dataframe tbody tr th {\n",
       "        vertical-align: top;\n",
       "    }\n",
       "\n",
       "    .dataframe thead th {\n",
       "        text-align: right;\n",
       "    }\n",
       "</style>\n",
       "<table border=\"1\" class=\"dataframe\">\n",
       "  <thead>\n",
       "    <tr style=\"text-align: right;\">\n",
       "      <th></th>\n",
       "      <th>type</th>\n",
       "      <th>geometry.type</th>\n",
       "      <th>geometry.coordinates</th>\n",
       "      <th>properties.ROAD</th>\n",
       "      <th>properties.START_SLK</th>\n",
       "      <th>properties.END_SLK</th>\n",
       "      <th>properties.CWY</th>\n",
       "      <th>properties.NETWORK_TYPE</th>\n",
       "      <th>properties.START_TRUE_DIST</th>\n",
       "      <th>properties.END_TRUE_DIST</th>\n",
       "      <th>max_segment_length_metres</th>\n",
       "    </tr>\n",
       "  </thead>\n",
       "  <tbody>\n",
       "    <tr>\n",
       "      <th>2744</th>\n",
       "      <td>Feature</td>\n",
       "      <td>LineString</td>\n",
       "      <td>[[125.404041941098, -30.85847423197356], [125....</td>\n",
       "      <td>605Z020</td>\n",
       "      <td>0.00</td>\n",
       "      <td>80.90</td>\n",
       "      <td>Single</td>\n",
       "      <td>Miscellaneous Road</td>\n",
       "      <td>0.00</td>\n",
       "      <td>80.90</td>\n",
       "      <td>81284.876382</td>\n",
       "    </tr>\n",
       "    <tr>\n",
       "      <th>2942</th>\n",
       "      <td>Feature</td>\n",
       "      <td>LineString</td>\n",
       "      <td>[[125.8829753144484, -25.75216504127684], [125...</td>\n",
       "      <td>612Z003</td>\n",
       "      <td>0.00</td>\n",
       "      <td>159.00</td>\n",
       "      <td>Single</td>\n",
       "      <td>Miscellaneous Road</td>\n",
       "      <td>0.00</td>\n",
       "      <td>159.00</td>\n",
       "      <td>26774.431067</td>\n",
       "    </tr>\n",
       "    <tr>\n",
       "      <th>2665</th>\n",
       "      <td>Feature</td>\n",
       "      <td>LineString</td>\n",
       "      <td>[[120.32325591609577, -30.822188722130647], [1...</td>\n",
       "      <td>602Z111</td>\n",
       "      <td>44.54</td>\n",
       "      <td>98.50</td>\n",
       "      <td>Single</td>\n",
       "      <td>Miscellaneous Road</td>\n",
       "      <td>44.54</td>\n",
       "      <td>98.50</td>\n",
       "      <td>17760.953579</td>\n",
       "    </tr>\n",
       "    <tr>\n",
       "      <th>47</th>\n",
       "      <td>Feature</td>\n",
       "      <td>LineString</td>\n",
       "      <td>[[124.6837987456833, -17.43442013934009], [124...</td>\n",
       "      <td>003Z014</td>\n",
       "      <td>0.00</td>\n",
       "      <td>17.18</td>\n",
       "      <td>Single</td>\n",
       "      <td>Miscellaneous Road</td>\n",
       "      <td>0.00</td>\n",
       "      <td>17.18</td>\n",
       "      <td>17631.581918</td>\n",
       "    </tr>\n",
       "    <tr>\n",
       "      <th>2906</th>\n",
       "      <td>Feature</td>\n",
       "      <td>LineString</td>\n",
       "      <td>[[120.66788599883245, -30.03532363528558], [12...</td>\n",
       "      <td>609Z024</td>\n",
       "      <td>0.00</td>\n",
       "      <td>24.20</td>\n",
       "      <td>Single</td>\n",
       "      <td>Miscellaneous Road</td>\n",
       "      <td>0.00</td>\n",
       "      <td>24.20</td>\n",
       "      <td>14923.629840</td>\n",
       "    </tr>\n",
       "  </tbody>\n",
       "</table>\n",
       "</div>"
      ],
      "text/plain": [
       "         type geometry.type  \\\n",
       "2744  Feature    LineString   \n",
       "2942  Feature    LineString   \n",
       "2665  Feature    LineString   \n",
       "47    Feature    LineString   \n",
       "2906  Feature    LineString   \n",
       "\n",
       "                                   geometry.coordinates properties.ROAD  \\\n",
       "2744  [[125.404041941098, -30.85847423197356], [125....         605Z020   \n",
       "2942  [[125.8829753144484, -25.75216504127684], [125...         612Z003   \n",
       "2665  [[120.32325591609577, -30.822188722130647], [1...         602Z111   \n",
       "47    [[124.6837987456833, -17.43442013934009], [124...         003Z014   \n",
       "2906  [[120.66788599883245, -30.03532363528558], [12...         609Z024   \n",
       "\n",
       "      properties.START_SLK  properties.END_SLK properties.CWY  \\\n",
       "2744                  0.00               80.90         Single   \n",
       "2942                  0.00              159.00         Single   \n",
       "2665                 44.54               98.50         Single   \n",
       "47                    0.00               17.18         Single   \n",
       "2906                  0.00               24.20         Single   \n",
       "\n",
       "     properties.NETWORK_TYPE  properties.START_TRUE_DIST  \\\n",
       "2744      Miscellaneous Road                        0.00   \n",
       "2942      Miscellaneous Road                        0.00   \n",
       "2665      Miscellaneous Road                       44.54   \n",
       "47        Miscellaneous Road                        0.00   \n",
       "2906      Miscellaneous Road                        0.00   \n",
       "\n",
       "      properties.END_TRUE_DIST  max_segment_length_metres  \n",
       "2744                     80.90               81284.876382  \n",
       "2942                    159.00               26774.431067  \n",
       "2665                     98.50               17760.953579  \n",
       "47                       17.18               17631.581918  \n",
       "2906                     24.20               14923.629840  "
      ]
     },
     "execution_count": 43,
     "metadata": {},
     "output_type": "execute_result"
    }
   ],
   "source": [
    "dat[dat[\"max_segment_length_metres\"]>5000].sort_values(\"max_segment_length_metres\", ascending=False).head()"
   ]
  }
 ],
 "metadata": {
  "interpreter": {
   "hash": "1036ff93b8156e06c1a1b1a4fce00491421761ff03a4bd7e2592aca5c1678a7a"
  },
  "kernelspec": {
   "display_name": "Python 3.9.1 ('base')",
   "language": "python",
   "name": "python3"
  },
  "language_info": {
   "codemirror_mode": {
    "name": "ipython",
    "version": 3
   },
   "file_extension": ".py",
   "mimetype": "text/x-python",
   "name": "python",
   "nbconvert_exporter": "python",
   "pygments_lexer": "ipython3",
   "version": "3.9.1"
  },
  "orig_nbformat": 4
 },
 "nbformat": 4,
 "nbformat_minor": 2
}
