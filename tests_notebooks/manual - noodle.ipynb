{
 "cells": [
  {
   "cell_type": "code",
   "execution_count": 1,
   "metadata": {},
   "outputs": [],
   "source": [
    "import megalinref as mlr\n",
    "from pathlib import Path"
   ]
  },
  {
   "cell_type": "code",
   "execution_count": null,
   "metadata": {},
   "outputs": [],
   "source": [
    "from megalinref import open_from_cache_or_download, Lookup, Cwy, NetworkType\n",
    "lookup = open_from_cache_or_download(\"../tests/temporary_test_data/road_network.bin\")\n",
    "result = lookup.road_slk_from_coordinate(\n",
    "    lat           = -31.89006203575722,\n",
    "    lon           = 115.80183730752809,\n",
    "    carriageways  = Cwy[\"L\"] | Cwy[\"R\"],\n",
    "    network_types = NetworkType[\"State Road\"] | NetworkType[\"Local Road\"],\n",
    "    roads         = []\n",
    ")\n",
    "result[\"slk\"]             = round(result[\"slk\"],             3)\n",
    "result[\"true\"]            = round(result[\"true\"],            3)\n",
    "result[\"distance_metres\"] = round(result[\"distance_metres\"], 3)\n",
    "assert result == {\n",
    "    'feature': {\n",
    "        'ROAD': 'H016',\n",
    "        'CWY': 'Left',\n",
    "        'START_SLK': 9.84,\n",
    "        'END_SLK': 10.68,\n",
    "        'START_TRUE_DIST': 9.84,\n",
    "        'END_TRUE_DIST': 10.68,\n",
    "        'NETWORK_TYPE': 'State Road'\n",
    "    },\n",
    "    'slk': 10.000,\n",
    "    'true': 10.000,\n",
    "    'distance_metres': 0.000\n",
    "}"
   ]
  },
  {
   "cell_type": "code",
   "execution_count": 2,
   "metadata": {},
   "outputs": [],
   "source": [
    "path_to_temp_data = Path(\".\").resolve().joinpath(\"../tests/temporary_test_data\")\n",
    "path_to_binary_data = path_to_temp_data / \"road_network.bin\""
   ]
  },
  {
   "cell_type": "code",
   "execution_count": 3,
   "metadata": {},
   "outputs": [],
   "source": [
    "with path_to_binary_data.open(\"rb\") as f:\n",
    "    lookup = mlr.Lookup.from_binary(f.read())"
   ]
  },
  {
   "cell_type": "code",
   "execution_count": 4,
   "metadata": {},
   "outputs": [
    {
     "data": {
      "text/plain": [
       "[[[(115.76531688239908, -32.04096302748923),\n",
       "   (115.76413787234668, -32.04097693587323)],\n",
       "  [(115.76413787234668, -32.04097693587323),\n",
       "   (115.76327106891421, -32.04099304031786)]]]"
      ]
     },
     "execution_count": 4,
     "metadata": {},
     "output_type": "execute_result"
    }
   ],
   "source": [
    "lookup.linestring_from_road_slk(\n",
    "    road         = \"H013\",\n",
    "    slk_from     = 15.06,\n",
    "    slk_to       = 15.20,\n",
    "    carriageways = mlr.Cwy[\"S\"],\n",
    "    offset       = 0,\n",
    ")"
   ]
  },
  {
   "cell_type": "code",
   "execution_count": 6,
   "metadata": {},
   "outputs": [
    {
     "ename": "TypeError",
     "evalue": "open_from_cache_or_download() missing 1 required positional argument: 'file_path'",
     "output_type": "error",
     "traceback": [
      "\u001b[1;31m---------------------------------------------------------------------------\u001b[0m",
      "\u001b[1;31mTypeError\u001b[0m                                 Traceback (most recent call last)",
      "Cell \u001b[1;32mIn[6], line 1\u001b[0m\n\u001b[1;32m----> 1\u001b[0m lk \u001b[39m=\u001b[39m mlr\u001b[39m.\u001b[39;49mopen_from_cache_or_download()\n",
      "\u001b[1;31mTypeError\u001b[0m: open_from_cache_or_download() missing 1 required positional argument: 'file_path'"
     ]
    }
   ],
   "source": [
    "lk = mlr.open_from_cache_or_download(\"../tests/temporary_test_data/road_network.bin\")"
   ]
  },
  {
   "cell_type": "code",
   "execution_count": 3,
   "metadata": {},
   "outputs": [
    {
     "data": {
      "text/plain": [
       "<Lookup at 0x1dfcacf2a30>"
      ]
     },
     "execution_count": 3,
     "metadata": {},
     "output_type": "execute_result"
    }
   ],
   "source": [
    "lk"
   ]
  },
  {
   "cell_type": "code",
   "execution_count": null,
   "metadata": {},
   "outputs": [],
   "source": []
  }
 ],
 "metadata": {
  "kernelspec": {
   "display_name": "Python 3.8.13 ('.env': venv)",
   "language": "python",
   "name": "python3"
  },
  "language_info": {
   "codemirror_mode": {
    "name": "ipython",
    "version": 3
   },
   "file_extension": ".py",
   "mimetype": "text/x-python",
   "name": "python",
   "nbconvert_exporter": "python",
   "pygments_lexer": "ipython3",
   "version": "3.10.10"
  },
  "orig_nbformat": 4,
  "vscode": {
   "interpreter": {
    "hash": "21059aad2353acd062ed85c8531983c20d2cd6d6863c7ce1f78a3159c0dc4374"
   }
  }
 },
 "nbformat": 4,
 "nbformat_minor": 2
}
