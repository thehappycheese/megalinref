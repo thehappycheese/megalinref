{
 "cells": [
  {
   "cell_type": "code",
   "execution_count": 1,
   "metadata": {},
   "outputs": [],
   "source": [
    "import megalinref as mlr\n",
    "from pathlib import Path"
   ]
  },
  {
   "cell_type": "code",
   "execution_count": 2,
   "metadata": {},
   "outputs": [],
   "source": [
    "from megalinref import open_from_cache_or_download, Lookup, Cwy, NetworkType\n",
    "lookup = open_from_cache_or_download(\"../tests/temporary_test_data/road_network.bin\")\n",
    "result = lookup.road_slk_from_coordinate(\n",
    "    lat           = -31.89006203575722,\n",
    "    lon           = 115.80183730752809,\n",
    "    carriageways  = Cwy[\"All\"],\n",
    "    network_types = NetworkType[\"State Road\"] | NetworkType[\"Local Road\"],\n",
    "    roads         = None\n",
    ")\n",
    "result[\"slk\"]             = round(result[\"slk\"],             3)\n",
    "result[\"true\"]            = round(result[\"true\"],            3)\n",
    "result[\"distance_metres\"] = round(result[\"distance_metres\"], 3)\n",
    "assert result == {\n",
    "    'feature': {\n",
    "        'ROAD': 'H016',\n",
    "        'CWY': 'Left',\n",
    "        'START_SLK': 9.84,\n",
    "        'END_SLK': 10.68,\n",
    "        'START_TRUE_DIST': 9.84,\n",
    "        'END_TRUE_DIST': 10.68,\n",
    "        'NETWORK_TYPE': 'State Road'\n",
    "    },\n",
    "    'slk': 10.000,\n",
    "    'true': 10.000,\n",
    "    'distance_metres': 0.000\n",
    "}"
   ]
  },
  {
   "cell_type": "code",
   "execution_count": 3,
   "metadata": {},
   "outputs": [],
   "source": [
    "path_to_temp_data = Path(\".\").resolve().joinpath(\"../tests/temporary_test_data\")\n",
    "path_to_binary_data = path_to_temp_data / \"road_network.bin\""
   ]
  },
  {
   "cell_type": "code",
   "execution_count": 4,
   "metadata": {},
   "outputs": [],
   "source": [
    "with path_to_binary_data.open(\"rb\") as f:\n",
    "    lookup = mlr.Lookup.from_binary(f.read())"
   ]
  },
  {
   "cell_type": "code",
   "execution_count": 5,
   "metadata": {},
   "outputs": [],
   "source": [
    "from shapely.geometry import MultiLineString\n",
    "from shapely import to_geojson\n",
    "import geopandas as gpd\n",
    "import folium\n",
    "import json"
   ]
  },
  {
   "cell_type": "code",
   "execution_count": 6,
   "metadata": {},
   "outputs": [
    {
     "data": {
      "text/html": [
       "<div style=\"width:100%;\"><div style=\"position:relative;width:100%;height:0;padding-bottom:60%;\"><span style=\"color:#565656\">Make this Notebook Trusted to load map: File -> Trust Notebook</span><iframe srcdoc=\"&lt;!DOCTYPE html&gt;\n",
       "&lt;html&gt;\n",
       "&lt;head&gt;\n",
       "    \n",
       "    &lt;meta http-equiv=&quot;content-type&quot; content=&quot;text/html; charset=UTF-8&quot; /&gt;\n",
       "    \n",
       "        &lt;script&gt;\n",
       "            L_NO_TOUCH = false;\n",
       "            L_DISABLE_3D = false;\n",
       "        &lt;/script&gt;\n",
       "    \n",
       "    &lt;style&gt;html, body {width: 100%;height: 100%;margin: 0;padding: 0;}&lt;/style&gt;\n",
       "    &lt;style&gt;#map {position:absolute;top:0;bottom:0;right:0;left:0;}&lt;/style&gt;\n",
       "    &lt;script src=&quot;https://cdn.jsdelivr.net/npm/leaflet@1.9.3/dist/leaflet.js&quot;&gt;&lt;/script&gt;\n",
       "    &lt;script src=&quot;https://code.jquery.com/jquery-3.7.1.min.js&quot;&gt;&lt;/script&gt;\n",
       "    &lt;script src=&quot;https://cdn.jsdelivr.net/npm/bootstrap@5.2.2/dist/js/bootstrap.bundle.min.js&quot;&gt;&lt;/script&gt;\n",
       "    &lt;script src=&quot;https://cdnjs.cloudflare.com/ajax/libs/Leaflet.awesome-markers/2.0.2/leaflet.awesome-markers.js&quot;&gt;&lt;/script&gt;\n",
       "    &lt;link rel=&quot;stylesheet&quot; href=&quot;https://cdn.jsdelivr.net/npm/leaflet@1.9.3/dist/leaflet.css&quot;/&gt;\n",
       "    &lt;link rel=&quot;stylesheet&quot; href=&quot;https://cdn.jsdelivr.net/npm/bootstrap@5.2.2/dist/css/bootstrap.min.css&quot;/&gt;\n",
       "    &lt;link rel=&quot;stylesheet&quot; href=&quot;https://netdna.bootstrapcdn.com/bootstrap/3.0.0/css/bootstrap.min.css&quot;/&gt;\n",
       "    &lt;link rel=&quot;stylesheet&quot; href=&quot;https://cdn.jsdelivr.net/npm/@fortawesome/fontawesome-free@6.2.0/css/all.min.css&quot;/&gt;\n",
       "    &lt;link rel=&quot;stylesheet&quot; href=&quot;https://cdnjs.cloudflare.com/ajax/libs/Leaflet.awesome-markers/2.0.2/leaflet.awesome-markers.css&quot;/&gt;\n",
       "    &lt;link rel=&quot;stylesheet&quot; href=&quot;https://cdn.jsdelivr.net/gh/python-visualization/folium/folium/templates/leaflet.awesome.rotate.min.css&quot;/&gt;\n",
       "    \n",
       "            &lt;meta name=&quot;viewport&quot; content=&quot;width=device-width,\n",
       "                initial-scale=1.0, maximum-scale=1.0, user-scalable=no&quot; /&gt;\n",
       "            &lt;style&gt;\n",
       "                #map_b71525c3310d2e3c7c494185e9b1b6ee {\n",
       "                    position: relative;\n",
       "                    width: 100.0%;\n",
       "                    height: 100.0%;\n",
       "                    left: 0.0%;\n",
       "                    top: 0.0%;\n",
       "                }\n",
       "                .leaflet-container { font-size: 1rem; }\n",
       "            &lt;/style&gt;\n",
       "        \n",
       "    \n",
       "                    &lt;style&gt;\n",
       "                        .foliumpopup {\n",
       "                            margin: auto;\n",
       "                        }\n",
       "                       .foliumpopup table{\n",
       "                            margin: auto;\n",
       "                        }\n",
       "                        .foliumpopup tr{\n",
       "                            text-align: left;\n",
       "                        }\n",
       "                        .foliumpopup th{\n",
       "                            padding: 2px; padding-right: 8px;\n",
       "                        }\n",
       "                    &lt;/style&gt;\n",
       "            \n",
       "&lt;/head&gt;\n",
       "&lt;body&gt;\n",
       "    \n",
       "    \n",
       "            &lt;div class=&quot;folium-map&quot; id=&quot;map_b71525c3310d2e3c7c494185e9b1b6ee&quot; &gt;&lt;/div&gt;\n",
       "        \n",
       "&lt;/body&gt;\n",
       "&lt;script&gt;\n",
       "    \n",
       "    \n",
       "            var map_b71525c3310d2e3c7c494185e9b1b6ee = L.map(\n",
       "                &quot;map_b71525c3310d2e3c7c494185e9b1b6ee&quot;,\n",
       "                {\n",
       "                    center: [0.0, 0.0],\n",
       "                    crs: L.CRS.EPSG3857,\n",
       "                    zoom: 1,\n",
       "                    zoomControl: true,\n",
       "                    preferCanvas: false,\n",
       "                }\n",
       "            );\n",
       "\n",
       "            \n",
       "\n",
       "        \n",
       "    \n",
       "            var tile_layer_e3bcbd11909724b956a8922624692ece = L.tileLayer(\n",
       "                &quot;https://{s}.tile.openstreetmap.org/{z}/{x}/{y}.png&quot;,\n",
       "                {&quot;attribution&quot;: &quot;Data by \\u0026copy; \\u003ca target=\\&quot;_blank\\&quot; href=\\&quot;http://openstreetmap.org\\&quot;\\u003eOpenStreetMap\\u003c/a\\u003e, under \\u003ca target=\\&quot;_blank\\&quot; href=\\&quot;http://www.openstreetmap.org/copyright\\&quot;\\u003eODbL\\u003c/a\\u003e.&quot;, &quot;detectRetina&quot;: false, &quot;maxNativeZoom&quot;: 18, &quot;maxZoom&quot;: 18, &quot;minZoom&quot;: 0, &quot;noWrap&quot;: false, &quot;opacity&quot;: 1, &quot;subdomains&quot;: &quot;abc&quot;, &quot;tms&quot;: false}\n",
       "            );\n",
       "        \n",
       "    \n",
       "                tile_layer_e3bcbd11909724b956a8922624692ece.addTo(map_b71525c3310d2e3c7c494185e9b1b6ee);\n",
       "    \n",
       "\n",
       "        function geo_json_d6bca0971aa2a0d8c192bd412fa624fc_onEachFeature(feature, layer) {\n",
       "            layer.on({\n",
       "            });\n",
       "        };\n",
       "        var geo_json_d6bca0971aa2a0d8c192bd412fa624fc = L.geoJson(null, {\n",
       "                onEachFeature: geo_json_d6bca0971aa2a0d8c192bd412fa624fc_onEachFeature,\n",
       "            \n",
       "        });\n",
       "\n",
       "        function geo_json_d6bca0971aa2a0d8c192bd412fa624fc_add (data) {\n",
       "            geo_json_d6bca0971aa2a0d8c192bd412fa624fc\n",
       "                .addData(data);\n",
       "        }\n",
       "            geo_json_d6bca0971aa2a0d8c192bd412fa624fc_add({&quot;features&quot;: [{&quot;geometry&quot;: {&quot;coordinates&quot;: [[[115.76512038072367, -32.040965345553225], [115.76413787234668, -32.04097693587323]], [[115.76413787234668, -32.04097693587323], [115.76327106891421, -32.04099304031786]], [[115.76327106891421, -32.04099304031786], [115.76294467940255, -32.040998072956825], [115.76262130947435, -32.041010517300435], [115.76249512749047, -32.04101902703536]], [[115.76249512749047, -32.04101902703536], [115.7623241092686, -32.04103503997749]]], &quot;type&quot;: &quot;MultiLineString&quot;}, &quot;properties&quot;: {&quot;CWY&quot;: &quot;Single&quot;}, &quot;type&quot;: &quot;Feature&quot;}], &quot;type&quot;: &quot;FeatureCollection&quot;});\n",
       "\n",
       "        \n",
       "    \n",
       "    geo_json_d6bca0971aa2a0d8c192bd412fa624fc.bindPopup(\n",
       "    function(layer){\n",
       "    let div = L.DomUtil.create(&#x27;div&#x27;);\n",
       "    \n",
       "    let handleObject = feature=&gt;typeof(feature)==&#x27;object&#x27; ? JSON.stringify(feature) : feature;\n",
       "    let fields = [&quot;CWY&quot;];\n",
       "    let aliases = [&quot;CWY&quot;];\n",
       "    let table = &#x27;&lt;table&gt;&#x27; +\n",
       "        String(\n",
       "        fields.map(\n",
       "        (v,i)=&gt;\n",
       "        `&lt;tr&gt;\n",
       "            &lt;th&gt;${aliases[i].toLocaleString()}&lt;/th&gt;\n",
       "            \n",
       "            &lt;td&gt;${handleObject(layer.feature.properties[v]).toLocaleString()}&lt;/td&gt;\n",
       "        &lt;/tr&gt;`).join(&#x27;&#x27;))\n",
       "    +&#x27;&lt;/table&gt;&#x27;;\n",
       "    div.innerHTML=table;\n",
       "    \n",
       "    return div\n",
       "    }\n",
       "    ,{&quot;className&quot;: &quot;foliumpopup&quot;});\n",
       "                     \n",
       "    \n",
       "                geo_json_d6bca0971aa2a0d8c192bd412fa624fc.addTo(map_b71525c3310d2e3c7c494185e9b1b6ee);\n",
       "    \n",
       "            map_b71525c3310d2e3c7c494185e9b1b6ee.fitBounds(\n",
       "                [[-32.04103503997749, 115.7623241092686], [-32.040965345553225, 115.76512038072367]],\n",
       "                {}\n",
       "            );\n",
       "        \n",
       "&lt;/script&gt;\n",
       "&lt;/html&gt;\" style=\"position:absolute;width:100%;height:100%;left:0;top:0;border:none !important;\" allowfullscreen webkitallowfullscreen mozallowfullscreen></iframe></div></div>"
      ],
      "text/plain": [
       "<folium.folium.Map at 0x7f6298f29960>"
      ]
     },
     "execution_count": 6,
     "metadata": {},
     "output_type": "execute_result"
    }
   ],
   "source": [
    "results = [\n",
    "    # lookup.linestring_from_road_slk(\n",
    "    #     road         = \"H001\",\n",
    "    #     slk_from     = 0,\n",
    "    #     slk_to       = 1.45,\n",
    "    #     carriageways = mlr.Cwy[\"All\"],\n",
    "    # ),\n",
    "    lookup.linestring_from_road_slk(\n",
    "        road         = \"H013\",\n",
    "        slk_from     = 15.080,\n",
    "        slk_to       = 15.35,\n",
    "        carriageways = mlr.Cwy[\"S\"],\n",
    "    ),\n",
    "]\n",
    "\n",
    "m = folium.Map()\n",
    "for result in results:\n",
    "    for key,value in result.items():\n",
    "        feature = {\n",
    "            \"type\":\"Feature\",\n",
    "            \"geometry\":json.loads(to_geojson(MultiLineString(value))),\n",
    "            \"properties\":{\n",
    "                \"CWY\":key\n",
    "            }\n",
    "        }\n",
    "        folium.GeoJson(json.dumps({\"type\":\"FeatureCollection\",\"features\":[feature]}), popup=folium.GeoJsonPopup([\"CWY\"])).add_to(m)\n",
    "m.fit_bounds(m.get_bounds())\n",
    "m"
   ]
  },
  {
   "cell_type": "code",
   "execution_count": 7,
   "metadata": {},
   "outputs": [
    {
     "data": {
      "text/plain": [
       "[{'Single': [[(115.76512038072367, -32.040965345553225),\n",
       "    (115.76413787234668, -32.04097693587323)],\n",
       "   [(115.76413787234668, -32.04097693587323),\n",
       "    (115.76327106891421, -32.04099304031786)],\n",
       "   [(115.76327106891421, -32.04099304031786),\n",
       "    (115.76294467940255, -32.040998072956825),\n",
       "    (115.76262130947435, -32.041010517300435),\n",
       "    (115.76249512749047, -32.04101902703536)],\n",
       "   [(115.76249512749047, -32.04101902703536),\n",
       "    (115.7623241092686, -32.04103503997749)]]}]"
      ]
     },
     "execution_count": 7,
     "metadata": {},
     "output_type": "execute_result"
    }
   ],
   "source": [
    "results"
   ]
  },
  {
   "cell_type": "code",
   "execution_count": null,
   "metadata": {},
   "outputs": [],
   "source": [
    "to_geojson(result)"
   ]
  },
  {
   "cell_type": "code",
   "execution_count": null,
   "metadata": {},
   "outputs": [],
   "source": [
    "lk = mlr.open_from_cache_or_download(\"../tests/temporary_test_data/road_network.bin\")"
   ]
  },
  {
   "cell_type": "code",
   "execution_count": null,
   "metadata": {},
   "outputs": [],
   "source": [
    "lk"
   ]
  },
  {
   "cell_type": "code",
   "execution_count": null,
   "metadata": {},
   "outputs": [],
   "source": []
  }
 ],
 "metadata": {
  "kernelspec": {
   "display_name": "Python 3.8.13 ('.env': venv)",
   "language": "python",
   "name": "python3"
  },
  "language_info": {
   "codemirror_mode": {
    "name": "ipython",
    "version": 3
   },
   "file_extension": ".py",
   "mimetype": "text/x-python",
   "name": "python",
   "nbconvert_exporter": "python",
   "pygments_lexer": "ipython3",
   "version": "3.10.8"
  },
  "orig_nbformat": 4,
  "vscode": {
   "interpreter": {
    "hash": "21059aad2353acd062ed85c8531983c20d2cd6d6863c7ce1f78a3159c0dc4374"
   }
  }
 },
 "nbformat": 4,
 "nbformat_minor": 2
}
