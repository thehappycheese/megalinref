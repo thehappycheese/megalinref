{
 "cells": [
  {
   "attachments": {},
   "cell_type": "markdown",
   "metadata": {},
   "source": [
    "# Manual Testing\n",
    "\n",
    "See `readme.md` for setup instructions.\n",
    "\n",
    "Then make sure this jupyter notebook is restarted before rebuilding, or `maturin` will fail to copy the fresh `.pyd` library into `.env/Lib/megalinref/` ."
   ]
  },
  {
   "cell_type": "code",
   "execution_count": null,
   "metadata": {},
   "outputs": [],
   "source": [
    "import json\n",
    "import megalinref as mlr\n",
    "from pathlib import Path\n",
    "import pandas as pd\n",
    "import numpy as np\n",
    "import util.unit_conversion as uc\n",
    "import math"
   ]
  },
  {
   "cell_type": "code",
   "execution_count": null,
   "metadata": {},
   "outputs": [],
   "source": [
    "path_to_temp_data = Path(\".\").resolve().joinpath(\"../tests/temporary_test_data\")\n",
    "path_to_temp_data.mkdir(exist_ok=True)\n",
    "path_to_gitignore = path_to_temp_data / \".gitignore\"\n",
    "path_to_json_data = path_to_temp_data / \"road_network.json\"\n",
    "path_to_binary_data = path_to_temp_data / \"road_network.bin\""
   ]
  },
  {
   "attachments": {},
   "cell_type": "markdown",
   "metadata": {},
   "source": [
    "## Make `.gitignore`"
   ]
  },
  {
   "cell_type": "code",
   "execution_count": null,
   "metadata": {},
   "outputs": [],
   "source": [
    "path_to_gitignore.write_text(\"*\\n!.gitignore\")"
   ]
  },
  {
   "attachments": {},
   "cell_type": "markdown",
   "metadata": {},
   "source": [
    "## JSON Cache"
   ]
  },
  {
   "cell_type": "code",
   "execution_count": null,
   "metadata": {},
   "outputs": [],
   "source": [
    "if not path_to_json_data.exists():\n",
    "    print(f\"There is no data cached at {path_to_json_data}\")\n",
    "    # Fetch new data\n",
    "    cached_json_data = mlr.download_fresh_data_as_json()\n",
    "    # Cache the data\n",
    "    with path_to_json_data.open(\"w\") as f:\n",
    "        json.dump(cached_json_data, f)\n",
    "else:\n",
    "    # Use cached data\n",
    "    with path_to_json_data.open(\"r\") as f:\n",
    "        cached_json_data = json.load(f)"
   ]
  },
  {
   "cell_type": "code",
   "execution_count": null,
   "metadata": {},
   "outputs": [],
   "source": [
    "cached_json_data[\"features\"][1]"
   ]
  },
  {
   "cell_type": "code",
   "execution_count": null,
   "metadata": {},
   "outputs": [],
   "source": [
    "df = pd.DataFrame.from_records([item[\"properties\"] for item in cached_json_data[\"features\"]])"
   ]
  },
  {
   "cell_type": "code",
   "execution_count": null,
   "metadata": {},
   "outputs": [],
   "source": [
    "df.duplicated().sum()"
   ]
  },
  {
   "cell_type": "code",
   "execution_count": null,
   "metadata": {},
   "outputs": [],
   "source": [
    "cways = set()\n",
    "network_types = set()\n",
    "for item in cached_json_data[\"features\"]:\n",
    "    cways.add(item[\"properties\"][\"CWY\"])\n",
    "    network_types.add(item[\"properties\"][\"NETWORK_TYPE\"])\n",
    "print(cways)\n",
    "print(network_types)"
   ]
  },
  {
   "attachments": {},
   "cell_type": "markdown",
   "metadata": {},
   "source": [
    "## Binary Cache"
   ]
  },
  {
   "cell_type": "code",
   "execution_count": null,
   "metadata": {},
   "outputs": [],
   "source": [
    "if not path_to_binary_data.exists():\n",
    "    print(f\"There is no binary data cached at {path_to_binary_data}\")\n",
    "    # Fetch new data\n",
    "    cached_binary_data = mlr.Lookup.from_dict(cached_json_data).to_binary()\n",
    "    # Cache the data\n",
    "    with path_to_binary_data.open(\"wb\") as f:\n",
    "        f.write(cached_binary_data)\n",
    "else:\n",
    "    # Use cached data\n",
    "    with path_to_binary_data.open(\"rb\") as f:\n",
    "        cached_binary_data = f.read()"
   ]
  },
  {
   "cell_type": "code",
   "execution_count": null,
   "metadata": {},
   "outputs": [],
   "source": [
    "lookup = mlr.Lookup.from_binary(cached_binary_data)\n",
    "lookup"
   ]
  },
  {
   "cell_type": "code",
   "execution_count": null,
   "metadata": {},
   "outputs": [],
   "source": [
    "result = lookup.road_slk_from_coordinate(\n",
    "    lat = -31.89006203575722,\n",
    "    lon = 115.80183730752809,\n",
    "    carriageways  = mlr.Cwy[\"All\"],\n",
    "    network_types = mlr.NetworkType[\"All\"],\n",
    ")\n",
    "result"
   ]
  },
  {
   "cell_type": "code",
   "execution_count": null,
   "metadata": {},
   "outputs": [],
   "source": []
  }
 ],
 "metadata": {
  "kernelspec": {
   "display_name": "Python 3.9.12 ('.env': venv)",
   "language": "python",
   "name": "python3"
  },
  "language_info": {
   "codemirror_mode": {
    "name": "ipython",
    "version": 3
   },
   "file_extension": ".py",
   "mimetype": "text/x-python",
   "name": "python",
   "nbconvert_exporter": "python",
   "pygments_lexer": "ipython3",
   "version": "3.10.8"
  },
  "orig_nbformat": 4,
  "vscode": {
   "interpreter": {
    "hash": "21059aad2353acd062ed85c8531983c20d2cd6d6863c7ce1f78a3159c0dc4374"
   }
  }
 },
 "nbformat": 4,
 "nbformat_minor": 2
}
