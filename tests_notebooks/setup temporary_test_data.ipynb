{
 "cells": [
  {
   "cell_type": "markdown",
   "metadata": {},
   "source": [
    "# Manual Testing\n",
    "\n",
    "See `readme.md` for setup instructions.\n",
    "\n",
    "Then make sure this jupyter notebook is restarted before rebuilding, or `maturin` will fail to copy the fresh `.pyd` library into `.env/Lib/megalinref/` ."
   ]
  },
  {
   "cell_type": "code",
   "execution_count": 3,
   "metadata": {},
   "outputs": [],
   "source": [
    "import json\n",
    "import megalinref as mlr\n",
    "from pathlib import Path\n",
    "import pandas as pd\n",
    "import numpy as np\n",
    "import util.unit_conversion as uc\n",
    "import math"
   ]
  },
  {
   "cell_type": "code",
   "execution_count": 7,
   "metadata": {},
   "outputs": [],
   "source": [
    "path_to_temp_data = Path(\".\").resolve().joinpath(\"../tests/temporary_test_data\")\n",
    "path_to_temp_data.mkdir(exist_ok=True)\n",
    "path_to_json_data = path_to_temp_data / \"road_network.json\"\n",
    "path_to_binary_data = path_to_temp_data / \"road_network.bin\""
   ]
  },
  {
   "cell_type": "markdown",
   "metadata": {},
   "source": [
    "## JSON Cache"
   ]
  },
  {
   "cell_type": "code",
   "execution_count": 5,
   "metadata": {},
   "outputs": [],
   "source": [
    "if not path_to_json_data.exists():\n",
    "    print(f\"There is no data cached at {path_to_json_data}\")\n",
    "    # Fetch new data\n",
    "    cached_json_data = mlr.download_fresh_data_as_json()\n",
    "    # Cache the data\n",
    "    with path_to_json_data.open(\"w\") as f:\n",
    "        json.dump(cached_json_data, f)\n",
    "else:\n",
    "    # Use cached data\n",
    "    with path_to_json_data.open(\"r\") as f:\n",
    "        cached_json_data = json.load(f)"
   ]
  },
  {
   "cell_type": "code",
   "execution_count": 7,
   "metadata": {},
   "outputs": [
    {
     "data": {
      "text/plain": [
       "{'type': 'Feature',\n",
       " 'geometry': {'type': 'LineString',\n",
       "  'coordinates': [[116.01613363394955, -31.90864177309936],\n",
       "   [116.01564263139306, -31.90885735305153]]},\n",
       " 'properties': {'ROAD': 'X001',\n",
       "  'START_SLK': 0.03,\n",
       "  'END_SLK': 0.08,\n",
       "  'CWY': 'Single',\n",
       "  'NETWORK_TYPE': 'Crossover',\n",
       "  'START_TRUE_DIST': 0.03,\n",
       "  'END_TRUE_DIST': 0.08}}"
      ]
     },
     "execution_count": 7,
     "metadata": {},
     "output_type": "execute_result"
    }
   ],
   "source": [
    "cached_json_data[\"features\"][1]"
   ]
  },
  {
   "cell_type": "code",
   "execution_count": 19,
   "metadata": {},
   "outputs": [
    {
     "name": "stdout",
     "output_type": "stream",
     "text": [
      "{'Right', 'Left', 'Single'}\n",
      "{'Crossover', 'Main Roads Controlled Path', 'State Road', 'Miscellaneous Road', 'Local Road', 'Proposed Road'}\n"
     ]
    }
   ],
   "source": [
    "cways = set()\n",
    "network_types = set()\n",
    "for item in cached_json_data[\"features\"]:\n",
    "    cways.add(item[\"properties\"][\"CWY\"])\n",
    "    network_types.add(item[\"properties\"][\"NETWORK_TYPE\"])\n",
    "print(cways)\n",
    "print(network_types)"
   ]
  },
  {
   "cell_type": "code",
   "execution_count": 11,
   "metadata": {},
   "outputs": [
    {
     "data": {
      "text/plain": [
       "<Lookup at 0x1ea33d292d0>"
      ]
     },
     "execution_count": 11,
     "metadata": {},
     "output_type": "execute_result"
    }
   ],
   "source": [
    "lookup = mlr.Lookup.from_dict(cached_json_data)\n",
    "lookup"
   ]
  },
  {
   "cell_type": "markdown",
   "metadata": {},
   "source": [
    "## Binary Cache"
   ]
  },
  {
   "cell_type": "code",
   "execution_count": 13,
   "metadata": {},
   "outputs": [
    {
     "name": "stdout",
     "output_type": "stream",
     "text": [
      "There is no binary data cached at C:\\Users\\Analyst_02\\Documents\\GitHub\\megalinref\\tests_notebooks\\..\\tests\\temporary_test_data\\road_network.bin\n"
     ]
    }
   ],
   "source": [
    "if not path_to_binary_data.exists():\n",
    "    print(f\"There is no binary data cached at {path_to_binary_data}\")\n",
    "    # Fetch new data\n",
    "    cached_binary_data = mlr.Lookup.from_dict(cached_json_data).to_binary()\n",
    "    # Cache the data\n",
    "    with path_to_binary_data.open(\"wb\") as f:\n",
    "        f.write(cached_binary_data)\n",
    "else:\n",
    "    # Use cached data\n",
    "    with path_to_binary_data.open(\"rb\") as f:\n",
    "        cached_binary_data = f.read()"
   ]
  },
  {
   "cell_type": "code",
   "execution_count": 14,
   "metadata": {},
   "outputs": [
    {
     "data": {
      "text/plain": [
       "<Lookup at 0x1ea2d597e70>"
      ]
     },
     "execution_count": 14,
     "metadata": {},
     "output_type": "execute_result"
    }
   ],
   "source": [
    "lookup = lookup.from_binary(cached_binary_data)\n",
    "lookup"
   ]
  },
  {
   "cell_type": "code",
   "execution_count": 12,
   "metadata": {},
   "outputs": [],
   "source": [
    "result = lookup.road_slk_from_coordinate(\n",
    "    lat = -31.89006203575722,\n",
    "    lon = 115.80183730752809,\n",
    "    carriageways  = mlr.Cwy[\"All\"],\n",
    "    network_types = mlr.NetworkType[\"All\"],\n",
    "    roads = []\n",
    ")"
   ]
  }
 ],
 "metadata": {
  "kernelspec": {
   "display_name": "Python 3.9.12 ('.env': venv)",
   "language": "python",
   "name": "python3"
  },
  "language_info": {
   "codemirror_mode": {
    "name": "ipython",
    "version": 3
   },
   "file_extension": ".py",
   "mimetype": "text/x-python",
   "name": "python",
   "nbconvert_exporter": "python",
   "pygments_lexer": "ipython3",
   "version": "3.8.13"
  },
  "orig_nbformat": 4,
  "vscode": {
   "interpreter": {
    "hash": "21059aad2353acd062ed85c8531983c20d2cd6d6863c7ce1f78a3159c0dc4374"
   }
  }
 },
 "nbformat": 4,
 "nbformat_minor": 2
}
